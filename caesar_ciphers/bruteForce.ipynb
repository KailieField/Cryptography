{
 "cells": [
  {
   "metadata": {},
   "cell_type": "markdown",
   "source": [
    "# **Brute Force Caesar Cipher**\n",
    "---\n",
    "## **Caesar Cipher Basics**\n",
    "The **Caesar Cipher** is a monoalphabetic substitution cipher, meaning each letter in the plaintext is shifted forward or backward by a fixed number.\n",
    "\n",
    "### **Key Properties**\n",
    "- It only has **25 possible shifts**, making it **highly insecure**.\n",
    "- If the shift value is unknown, **brute force** all 25 shifts to recover plaintext.\n",
    "- Due to **preservation of letter frequency**, it is **vulnerable to cryptanalysis**.\n",
    "\n",
    "---\n",
    "\n",
    "## **ROT Ciphers**\n",
    "**ROT (rotate) ciphers** shift letters cyclically, forming a substitution cipher where each letter is replaced by another a fixed number of spaces away.\n",
    "\n",
    "### **Types of ROT Ciphers**\n",
    "- **ROT-13** → Special case of the **Caesar cipher**, used for **simple text obfuscation** (hiding spoilers or encoding puzzle clues).  \n",
    "  - **Reversible (zero security)** → More of an **encoding method** than true encryption.\n",
    "- **ROT-5** → Used for **shifting numbers (0-9) forward by 5** places.\n",
    "- **ROT-47** → Extends shifting to **all printable ASCII characters**, sometimes used in **lightweight encryption**.\n",
    "\n",
    "---\n"
   ],
   "id": "cee6bea7cb996d80"
  },
  {
   "metadata": {
    "ExecuteTime": {
     "end_time": "2025-03-03T18:34:01.414759Z",
     "start_time": "2025-03-03T18:34:01.410452Z"
    }
   },
   "cell_type": "code",
   "source": [
    "import codecs\n",
    "\n",
    "# ------- ENCRYPT and DECRYPT ROT-13 -------\n",
    "def rot13(text):\n",
    "    return codecs.encode(text, 'rot_13')\n",
    "\n",
    "plaintext = \"This is a Secret\"\n",
    "ciphertext = rot13(plaintext)\n",
    "\n",
    "print(f\"[Encrypted]: {ciphertext}\")\n",
    "print(f\"[Decrypted]: {rot13(ciphertext)}\") #<--- applying ROT-13 again to decrypt"
   ],
   "id": "76149bcfdd79f581",
   "outputs": [
    {
     "name": "stdout",
     "output_type": "stream",
     "text": [
      "[Encrypted]: Guvf vf n Frperg\n",
      "[Decrypted]: This is a Secret\n"
     ]
    }
   ],
   "execution_count": 4
  },
  {
   "metadata": {
    "ExecuteTime": {
     "end_time": "2025-03-03T18:34:37.085140Z",
     "start_time": "2025-03-03T18:34:37.079603Z"
    }
   },
   "cell_type": "code",
   "source": [
    "def caesar_cipher(text, shift, decrypt=False):\n",
    "    alphabet = \"ABCDEFGHIJKLMNOPQRSTUVWXYZ\"\n",
    "    result = \"\"\n",
    "    \n",
    "    if decrypt:\n",
    "        shift = -shift #<--- applying reversal for decryption\n",
    "    for char in text:\n",
    "        if char.upper() in alphabet:\n",
    "            index = (alphabet.index(char.upper()) + shift) % 26\n",
    "            new_char = alphabet[index]\n",
    "            result += new_char.lower() if char.islower() else  new_char\n",
    "        else:\n",
    "            result += char #<--- preserving spaces and punctuation keeping them unchanged\n",
    "    return result\n",
    "\n",
    "ciphertext = \"Ymnx nx f xjhwjy\"\n",
    "shift_value = 5 #<--- shift used during encryption\n",
    "\n",
    "decrypt_text = caesar_cipher(ciphertext, shift_value, decrypt=True)\n",
    "print(f\"[Encrypted]: {ciphertext}\")\n",
    "print(f\"[Decrypted]: {decrypt_text}\")"
   ],
   "id": "b105f4f3526ea31c",
   "outputs": [
    {
     "name": "stdout",
     "output_type": "stream",
     "text": [
      "[Encrypted]: Ymnx nx f xjhwjy\n",
      "[Decrypted]: This is a secret\n"
     ]
    }
   ],
   "execution_count": 6
  },
  {
   "metadata": {
    "ExecuteTime": {
     "end_time": "2025-03-03T18:50:19.374080Z",
     "start_time": "2025-03-03T18:50:19.368360Z"
    }
   },
   "cell_type": "code",
   "source": [
    "# ----[ BRUTE FORCE CAESAR CIPHER ATTACK ]----\n",
    "def caesar_brute_force(ciphertext):\n",
    "    \"\"\"\n",
    "    Brute force all possible shifts of a Caesar Cipher\n",
    "    \"\"\"\n",
    "    \n",
    "    alphabet = \"ABCDEFGHIJKLMNOPQRSTUVWXYZ\"\n",
    "    ciphertext = ciphertext.upper()\n",
    "    \n",
    "    for shift in range(1, 26):\n",
    "        decrypt_text = \"\"\n",
    "        for char in ciphertext:\n",
    "            if char in alphabet:\n",
    "                index = (alphabet.index(char) - shift) % 26\n",
    "                decrypt_text += alphabet[index]\n",
    "            else:\n",
    "                decrypt_text += char\n",
    "        print(f\"[SHIFT]: {shift}: {decrypt_text}\")\n",
    "\n",
    "ciphertext = \"Ymnx nx f xjhwjy\"\n",
    "caesar_brute_force(ciphertext)"
   ],
   "id": "670b7edccdb6d052",
   "outputs": [
    {
     "name": "stdout",
     "output_type": "stream",
     "text": [
      "[SHIFT]: 1: XLMW MW E WIGVIX\n",
      "[SHIFT]: 2: WKLV LV D VHFUHW\n",
      "[SHIFT]: 3: VJKU KU C UGETGV\n",
      "[SHIFT]: 4: UIJT JT B TFDSFU\n",
      "[SHIFT]: 5: THIS IS A SECRET\n",
      "[SHIFT]: 6: SGHR HR Z RDBQDS\n",
      "[SHIFT]: 7: RFGQ GQ Y QCAPCR\n",
      "[SHIFT]: 8: QEFP FP X PBZOBQ\n",
      "[SHIFT]: 9: PDEO EO W OAYNAP\n",
      "[SHIFT]: 10: OCDN DN V NZXMZO\n",
      "[SHIFT]: 11: NBCM CM U MYWLYN\n",
      "[SHIFT]: 12: MABL BL T LXVKXM\n",
      "[SHIFT]: 13: LZAK AK S KWUJWL\n",
      "[SHIFT]: 14: KYZJ ZJ R JVTIVK\n",
      "[SHIFT]: 15: JXYI YI Q IUSHUJ\n",
      "[SHIFT]: 16: IWXH XH P HTRGTI\n",
      "[SHIFT]: 17: HVWG WG O GSQFSH\n",
      "[SHIFT]: 18: GUVF VF N FRPERG\n",
      "[SHIFT]: 19: FTUE UE M EQODQF\n",
      "[SHIFT]: 20: ESTD TD L DPNCPE\n",
      "[SHIFT]: 21: DRSC SC K COMBOD\n",
      "[SHIFT]: 22: CQRB RB J BNLANC\n",
      "[SHIFT]: 23: BPQA QA I AMKZMB\n",
      "[SHIFT]: 24: AOPZ PZ H ZLJYLA\n",
      "[SHIFT]: 25: ZNOY OY G YKIXKZ\n"
     ]
    }
   ],
   "execution_count": 7
  },
  {
   "metadata": {},
   "cell_type": "code",
   "outputs": [],
   "execution_count": null,
   "source": "",
   "id": "e7727aae3b539bb6"
  }
 ],
 "metadata": {
  "kernelspec": {
   "display_name": "Python 3",
   "language": "python",
   "name": "python3"
  },
  "language_info": {
   "codemirror_mode": {
    "name": "ipython",
    "version": 2
   },
   "file_extension": ".py",
   "mimetype": "text/x-python",
   "name": "python",
   "nbconvert_exporter": "python",
   "pygments_lexer": "ipython2",
   "version": "2.7.6"
  }
 },
 "nbformat": 4,
 "nbformat_minor": 5
}
