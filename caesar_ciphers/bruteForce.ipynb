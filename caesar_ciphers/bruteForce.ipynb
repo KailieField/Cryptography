{
 "cells": [
  {
   "metadata": {},
   "cell_type": "markdown",
   "source": [
    "# ------------[ BRUTE FORCE CAESAR CIPHER ]------------\n",
    "### ---- CAESAR CIPHER BASICS ----\n",
    "#### --- Caesar Cipher is a Monoalphabetic substitution cipher,\n",
    "#### --- meaning: each letter in the plaintext is shifted forward or backward by a fixed number\n",
    "#### ------ this inherently means:\n",
    "#### ------------- it only has 25 possible shifts, it is highly insecure\n",
    "#### ------------- if you dont know the shift you can BRUTE FORCE all 25 shifts to recover plaintext\n",
    "#### ------------- due to the preservation of letter frequency, it is vulnerable to cryptanalysis\n",
    "\n",
    "### ------------[ ROT CIPHERS ]------------\n",
    "#### --- (rotate) letters cyclically; form of substitution cipher where each letter is replaced by another a fixed number of spaces away from the initial\n",
    "#### --------[ TYPES ]--------\n",
    "#### -- ROT-13 (most common): special case of the Caesar ---> simple text obfuscation (hiding spoilers or encoding puzzle clues) \n",
    "#### ---> reversible (zero security) --> more of an encoding method than encrypting method\n",
    "#### -- ROT-5 (shifting numbers (0-9) forward by 5)\n",
    "#### -- ROT-45 (shift to all printable ASCII characters (used in security for light encryption)\n",
    "\n",
    "\n"
   ],
   "id": "2d2978938456a806"
  },
  {
   "metadata": {
    "ExecuteTime": {
     "end_time": "2025-03-03T18:34:01.414759Z",
     "start_time": "2025-03-03T18:34:01.410452Z"
    }
   },
   "cell_type": "code",
   "source": [
    "import codecs\n",
    "\n",
    "# ------- ENCRYPT and DECRYPT ROT-13 -------\n",
    "def rot13(text):\n",
    "    return codecs.encode(text, 'rot_13')\n",
    "\n",
    "plaintext = \"This is a Secret\"\n",
    "ciphertext = rot13(plaintext)\n",
    "\n",
    "print(f\"[Encrypted]: {ciphertext}\")\n",
    "print(f\"[Decrypted]: {rot13(ciphertext)}\") #<--- applying ROT-13 again to decrypt"
   ],
   "id": "76149bcfdd79f581",
   "outputs": [
    {
     "name": "stdout",
     "output_type": "stream",
     "text": [
      "[Encrypted]: Guvf vf n Frperg\n",
      "[Decrypted]: This is a Secret\n"
     ]
    }
   ],
   "execution_count": 4
  },
  {
   "metadata": {
    "ExecuteTime": {
     "end_time": "2025-03-03T18:34:37.085140Z",
     "start_time": "2025-03-03T18:34:37.079603Z"
    }
   },
   "cell_type": "code",
   "source": [
    "def caesar_cipher(text, shift, decrypt=False):\n",
    "    alphabet = \"ABCDEFGHIJKLMNOPQRSTUVWXYZ\"\n",
    "    result = \"\"\n",
    "    \n",
    "    if decrypt:\n",
    "        shift = -shift #<--- applying reversal for decryption\n",
    "    for char in text:\n",
    "        if char.upper() in alphabet:\n",
    "            index = (alphabet.index(char.upper()) + shift) % 26\n",
    "            new_char = alphabet[index]\n",
    "            result += new_char.lower() if char.islower() else  new_char\n",
    "        else:\n",
    "            result += char #<--- preserving spaces and punctuation keeping them unchanged\n",
    "    return result\n",
    "\n",
    "ciphertext = \"Ymnx nx f xjhwjy\"\n",
    "shift_value = 5 #<--- shift used during encryption\n",
    "\n",
    "decrypt_text = caesar_cipher(ciphertext, shift_value, decrypt=True)\n",
    "print(f\"[Encrypted]: {ciphertext}\")\n",
    "print(f\"[Decrypted]: {decrypt_text}\")"
   ],
   "id": "b105f4f3526ea31c",
   "outputs": [
    {
     "name": "stdout",
     "output_type": "stream",
     "text": [
      "[Encrypted]: Ymnx nx f xjhwjy\n",
      "[Decrypted]: This is a secret\n"
     ]
    }
   ],
   "execution_count": 6
  },
  {
   "metadata": {},
   "cell_type": "code",
   "outputs": [],
   "execution_count": null,
   "source": "",
   "id": "670b7edccdb6d052"
  }
 ],
 "metadata": {
  "kernelspec": {
   "display_name": "Python 3",
   "language": "python",
   "name": "python3"
  },
  "language_info": {
   "codemirror_mode": {
    "name": "ipython",
    "version": 2
   },
   "file_extension": ".py",
   "mimetype": "text/x-python",
   "name": "python",
   "nbconvert_exporter": "python",
   "pygments_lexer": "ipython2",
   "version": "2.7.6"
  }
 },
 "nbformat": 4,
 "nbformat_minor": 5
}
