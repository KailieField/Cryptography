{
 "cells": [
  {
   "metadata": {},
   "cell_type": "markdown",
   "source": [
    "# ------------[ BRUTE FORCE CAESAR CIPHER ]------------\n",
    "### ---- CAESAR CIPHER BASICS ----\n",
    "#### --- Caesar Cipher is a Monoalphabetic substitution cipher,\n",
    "#### --- meaning: each letter in the plaintext is shifted forward or backward by a fixed number\n",
    "#### ------ this inherently means:\n",
    "#### ------------- it only has 25 possible shifts, it is highly insecure\n",
    "#### ------------- if you dont know the shift you can BRUTE FORCE all 25 shifts to recover plaintext\n",
    "#### ------------- due to the preservation of letter frequency, it is vulnerable to cryptanalysis\n",
    "\n",
    "### ------------[ ROT CIPHERS ]------------\n",
    "#### --- (rotate) letters cyclically; form of substitution cipher where each letter is replaced by another a fixed number of spaces away from the initial\n",
    "#### --------[ TYPES ]--------\n",
    "#### -- ROT-13 (most common): special case of the Caesar ---> simple text obfuscation (hiding spoilers or encoding puzzle clues) \n",
    "#### ---> reversible (zero security) --> more of an encoding method than encrypting method\n",
    "#### -- ROT-5 (shifting numbers (0-9) forward by 5)\n",
    "#### -- ROT-45 (shift to all printable ASCII characters (used in security for light encryption)\n",
    "\n",
    "\n"
   ],
   "id": "2d2978938456a806"
  },
  {
   "metadata": {
    "ExecuteTime": {
     "end_time": "2025-03-03T18:27:25.560595Z",
     "start_time": "2025-03-03T18:27:25.557239Z"
    }
   },
   "cell_type": "code",
   "source": [
    "import codecs\n",
    "\n",
    "# ------- ENCRYPT and DECRYPT ROT-13 -------\n",
    "def rot13(text):\n",
    "    return codecs.encode(text, 'rot_13')\n",
    "\n",
    "plaintext = \"This Is a Secret\"\n",
    "ciphertext = rot13(plaintext)\n",
    "\n",
    "print(f\"Encrypted: {ciphertext}\")\n",
    "print(f\"Decrypted: {rot13(ciphertext)}\") # Applying ROT-13 again to decrypt"
   ],
   "id": "76149bcfdd79f581",
   "outputs": [
    {
     "name": "stdout",
     "output_type": "stream",
     "text": [
      "Encrypted: Guvf Vf n Frperg\n",
      "Decrypted: This Is a Secret\n"
     ]
    }
   ],
   "execution_count": 1
  },
  {
   "metadata": {},
   "cell_type": "code",
   "outputs": [],
   "execution_count": null,
   "source": "",
   "id": "b105f4f3526ea31c"
  }
 ],
 "metadata": {
  "kernelspec": {
   "display_name": "Python 3",
   "language": "python",
   "name": "python3"
  },
  "language_info": {
   "codemirror_mode": {
    "name": "ipython",
    "version": 2
   },
   "file_extension": ".py",
   "mimetype": "text/x-python",
   "name": "python",
   "nbconvert_exporter": "python",
   "pygments_lexer": "ipython2",
   "version": "2.7.6"
  }
 },
 "nbformat": 4,
 "nbformat_minor": 5
}
